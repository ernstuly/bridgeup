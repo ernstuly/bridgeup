{
 "cells": [
  {
   "cell_type": "markdown",
   "metadata": {
    "deletable": true,
    "editable": true
   },
   "source": [
    "# Final Projects: Calculating evolutionary distance\n",
    "\n",
    "In this notebook you will compare the amino acid sequence of hemoglobin alpha from 3 different species to find out which two are most closely related."
   ]
  },
  {
   "cell_type": "code",
   "execution_count": null,
   "metadata": {
    "collapsed": true,
    "deletable": true,
    "editable": true
   },
   "outputs": [],
   "source": []
  },
  {
   "cell_type": "markdown",
   "metadata": {
    "deletable": true,
    "editable": true
   },
   "source": [
    "You'll need to copy and paste the function from last class that finds the number of differences in two sequences:"
   ]
  },
  {
   "cell_type": "code",
   "execution_count": 1,
   "metadata": {
    "collapsed": false,
    "deletable": true,
    "editable": true
   },
   "outputs": [],
   "source": [
    "#Converts the DNA to RNA\n",
    "def translation(rnaseq):\n",
    "    ProteinDict = {\"UUU\":\"F\", \"UUC\":\"F\", \"UUA\":\"L\", \"UUG\":\"L\", \"CUU\":\"L\", \"CUC\":\"L\", \"CUA\":\"L\", \"CUG\":\"L\", \"AUU\":\"I\", \"AUC\":\"I\", \"AUA\":\"I\", \"AUG\":\"M\", \"GUU\":\"V\", \"GUC\":\"V\", \"GUA\":\"V\", \"GUG\":\"V\", \"UCU\":\"S\", \"UCC\":\"S\", \"UCA\":\"S\", \"UCG\":\"S\", \"CCU\":\"P\", \"CCC\":\"P\", \"CCA\":\"P\", \"CCG\":\"P\", \"ACU\":\"T\", \"ACC\":\"T\", \"ACA\":\"T\", \"ACG\":\"T\", \"GCU\":\"A\", \"GCC\":\"A\", \"GCA\":\"A\", \"GCG\":\"A\", \"UAU\":\"Y\", \"UAC\":\"Y\", \"UAA\":\"X\", \"UAG\":\"X\", \"CAU\":\"H\", \"CAC\":\"H\", \"CAA\":\"Q\", \"CAG\":\"Q\", \"AAU\": \"N\", \"AAC\":\"N\", \"AAA\":\"K\", \"AAG\":\"K\", \"GAU\":\"D\", \"GAC\":\"D\", \"GAA\":\"E\", \"GAG\":\"E\", \"UGU\":\"C\", \"UGC\":\"C\", \"UGA\":\"\", \"UGG\":\"W\", \"CGU\":\"R\", \"CGC\":\"R\", \"CGA\":\"R\", \"CGG\":\"R\", \"AGU\":\"S\", \"AGC\":\"S\", \"AGA\":\"R\", \"AGG\":\"R\", \"GGU\":\"G\", \"GGC\":\"G\", \"GGA\":\"G\", \"GGG\":\"G\"} \n",
    "    codon = \"\"\n",
    "    protein = \"\"\n",
    "    for base in rnaseq:\n",
    "        codon += base\n",
    "        if len(codon) == 3:\n",
    "            protein += ProteinDict[codon]\n",
    "            codon = \"\"\n",
    "    return protein\n",
    "    print(codon)\n",
    "#Converts the RNA to amino acid sequences\n",
    "def transcribe(sequence):\n",
    "    dna_seq = {\"A\":\"U\", \"T\":\"A\", \"G\":\"C\", \"C\":\"G\"}\n",
    "    s = \"\"\n",
    "    dna = \"\"\n",
    "    for letter in sequence:\n",
    "        s += dna_seq[letter]\n",
    "    return s\n",
    "\n"
   ]
  },
  {
   "cell_type": "markdown",
   "metadata": {
    "deletable": true,
    "editable": true
   },
   "source": [
    "In order to compare the different amino acid sequences, we need to open the files and read the sequences into new variables:"
   ]
  },
  {
   "cell_type": "code",
   "execution_count": 2,
   "metadata": {
    "collapsed": false,
    "deletable": true,
    "editable": true
   },
   "outputs": [],
   "source": [
    "#3 Sequences for the 3 Different Animals\n",
    "dog = open(\"3_dog_HBB_DNA.txt\").read()\n",
    "sperm_whale = open(\"3_sperm_whale_HBB_DNA.txt\").read()\n",
    "walrus = open(\"3_walrus_HBB_DNA.txt\").read()\n"
   ]
  },
  {
   "cell_type": "markdown",
   "metadata": {
    "deletable": true,
    "editable": true
   },
   "source": [
    "Decide as a group whether you want to compare DNA or protein sequences for your species. What are the pros and cons of each?"
   ]
  },
  {
   "cell_type": "code",
   "execution_count": 3,
   "metadata": {
    "collapsed": false,
    "deletable": true,
    "editable": true
   },
   "outputs": [],
   "source": [
    "#Converting the RNA to amino acid sequences\n",
    "walrus_protein = translation(transcribe(walrus))\n",
    "sperm_whale_protein = translation(transcribe(sperm_whale))\n",
    "dog_protein = translation(transcribe(dog))"
   ]
  },
  {
   "cell_type": "code",
   "execution_count": 4,
   "metadata": {
    "collapsed": false,
    "deletable": true,
    "editable": true
   },
   "outputs": [
    {
     "data": {
      "text/plain": [
       "'MVHLTAEEKSLVSGLWGKVNVDEVGGEALGRLLIVYPWTQRFFDSFGDLSTPDAVMSNAKVKAHGKKVLNSFSDGLKNLDNLKGTFAKLSELHCDKLHVDPENFKLLGNVLVCVLAHHFGKEFTPQVQAAYQKVVAGVANALAHK'"
      ]
     },
     "execution_count": 4,
     "metadata": {},
     "output_type": "execute_result"
    }
   ],
   "source": [
    "dog_protein"
   ]
  },
  {
   "cell_type": "markdown",
   "metadata": {
    "deletable": true,
    "editable": true
   },
   "source": [
    "Now call the number of differences function 3 times to compare all three of your species' sequences."
   ]
  },
  {
   "cell_type": "code",
   "execution_count": 5,
   "metadata": {
    "collapsed": true,
    "deletable": true,
    "editable": true
   },
   "outputs": [],
   "source": [
    "#This function counts the differences in the Amino Acid Sequences\n",
    "def differences(file1, file2):\n",
    "    #Evens out the length of the lists\n",
    "    same = []\n",
    "    different = []\n",
    "    #Compares the different lists\n",
    "    for i in range(0, len(file1)):\n",
    "        if file1[i] == file2[i]:\n",
    "            same.append(file1[i] + file2[i])\n",
    "        else:\n",
    "            different.append([i])\n",
    "    return len(different)\n",
    "\n"
   ]
  },
  {
   "cell_type": "code",
   "execution_count": 6,
   "metadata": {
    "collapsed": false,
    "deletable": true,
    "editable": true
   },
   "outputs": [
    {
     "name": "stdout",
     "output_type": "stream",
     "text": [
      "There are 27 differences\n"
     ]
    }
   ],
   "source": [
    "#Not working\n",
    "def diffNum(seq1, seq2):\n",
    "    diffNum = 0 \n",
    "    for i, aa in enumerate(seq1):\n",
    "        if seq2[i] != aa: \n",
    "            diffNum += 1 \n",
    "    print(\"There are\", diffNum,\"differences\")\n",
    "        \n",
    "        \n",
    "diffNum(dog_protein, sperm_whale_protein)\n"
   ]
  },
  {
   "cell_type": "code",
   "execution_count": 7,
   "metadata": {
    "collapsed": false,
    "deletable": true,
    "editable": true
   },
   "outputs": [
    {
     "name": "stdout",
     "output_type": "stream",
     "text": [
      "25\n",
      "5\n",
      "27\n"
     ]
    }
   ],
   "source": [
    "print(differences(walrus_protein, sperm_whale_protein))\n",
    "print(differences(walrus_protein, dog_protein))\n",
    "print(differences(dog_protein, sperm_whale_protein))"
   ]
  },
  {
   "cell_type": "markdown",
   "metadata": {
    "deletable": true,
    "editable": true
   },
   "source": [
    "What can you conclude based on the number of differences between each pair of species?\n",
    "\n",
    "Next, create a function that returns the percent difference between sequences and call it for your three comparisons:"
   ]
  },
  {
   "cell_type": "code",
   "execution_count": 8,
   "metadata": {
    "collapsed": true,
    "deletable": true,
    "editable": true
   },
   "outputs": [],
   "source": [
    "#Need function for calculating differences\n"
   ]
  },
  {
   "cell_type": "code",
   "execution_count": 9,
   "metadata": {
    "collapsed": false,
    "deletable": true,
    "editable": true,
    "scrolled": true
   },
   "outputs": [
    {
     "name": "stdout",
     "output_type": "stream",
     "text": [
      "17.24137931034483\n",
      "3.4482758620689653\n",
      "18.620689655172416\n"
     ]
    }
   ],
   "source": [
    "def perc_differences(file1, file2):\n",
    "    #Even out the length of the lists \n",
    "    same = []\n",
    "    different = []\n",
    "    #Compares the different sequences\n",
    "    for i in range(0, len(file1)):\n",
    "        if file1[i] == file2[i]:\n",
    "            same.append(file1[i] + file2[i])\n",
    "        else:\n",
    "            different.append([i])\n",
    "    total = len(file1)\n",
    "    #Finds the percentage\n",
    "    percentage = (len(different) / total) * 100\n",
    "    return(percentage)\n",
    "    \n",
    "Walrus_Whale = perc_differences(walrus_protein, sperm_whale_protein)\n",
    "Walrus_Dog = perc_differences(walrus_protein, dog_protein)\n",
    "Whale_Dog = perc_differences(sperm_whale_protein, dog_protein)                         \n",
    "\n",
    "\n",
    "print(Walrus_Whale)\n",
    "print(Walrus_Dog)\n",
    "print(Whale_Dog)\n"
   ]
  },
  {
   "cell_type": "raw",
   "metadata": {
    "deletable": true,
    "editable": true
   },
   "source": [
    "Let's visualize these results! Choose a graph type that you think will communicate your conclusions effectively and create it using matplotlib:"
   ]
  },
  {
   "cell_type": "code",
   "execution_count": 10,
   "metadata": {
    "collapsed": false,
    "deletable": true,
    "editable": true,
    "scrolled": true
   },
   "outputs": [
    {
     "data": {
      "image/png": "[encoded data removed]",
      "text/plain": [
       "<matplotlib.figure.Figure at 0x106ae9438>"
      ]
     },
     "metadata": {},
     "output_type": "display_data"
    }
   ],
   "source": [
    "import matplotlib.pyplot as plt\n",
    "#Bar Graph of the Differences\n",
    "plt.clf()\n",
    "plt.bar(3, Walrus_Dog, color = \"darkcyan\")\n",
    "plt.bar(2, Walrus_Whale, color = \"darkgoldenrod\")\n",
    "plt.bar(1, Whale_Dog, color = \"grey\")\n",
    "plt.ylabel(\"Percentage of Different DNA\")\n",
    "plt.xticks([]) #Clears the x ticks \n",
    "plt.title(\"Differences in DNA\")\n",
    "plt.legend(labels = [\"Dog-Whale\", \"Whale-Walrus\", \"Dog-Walrus\"])\n",
    "plt.savefig(\"Differences in DNA.jpg\")\n",
    "plt.show()"
   ]
  },
  {
   "cell_type": "markdown",
   "metadata": {
    "deletable": true,
    "editable": true
   },
   "source": [
    "## Coding Challenge\n",
    "If you finish your project and want to try a challenge, come up with a hypothesis about which of the following species are most closely related to humans (carp, chicken, chimp, dog, eel, elephant, frog, gorilla, macaque monkey, mouse, orangutan, pig). Write out a ranked list with the species you think is most related to humans at the top.\n",
    "\n",
    "Then calculate the percent difference between the hemoglobin amino acid sequences of humans and each species to find out how close you came to the right ranking!"
   ]
  },
  {
   "cell_type": "code",
   "execution_count": 11,
   "metadata": {
    "collapsed": true,
    "deletable": true,
    "editable": true
   },
   "outputs": [],
   "source": [
    "#Opening of the different animal files\n",
    "gorilla = open(\"Gorilla_hemoglobin.txt\").read()\n",
    "human = open(\"Human_hemoglobin.txt\").read()\n",
    "macaque = open(\"Macaque_hemoglobin.txt\").read()\n",
    "orangutan = open(\"Orangutan_hemoglobin.txt\").read()"
   ]
  },
  {
   "cell_type": "code",
   "execution_count": 12,
   "metadata": {
    "collapsed": true
   },
   "outputs": [],
   "source": [
    "#Running function in order to find the % difference between the animals\n",
    "human_gorilla = perc_differences(human, gorilla)\n",
    "human_macaque = perc_differences(human, macaque)\n",
    "human_orangutan = perc_differences(human, orangutan)\n"
   ]
  },
  {
   "cell_type": "code",
   "execution_count": 18,
   "metadata": {
    "collapsed": false
   },
   "outputs": [
    {
     "data": {
      "image/png": "[encoded data removed]",
      "text/plain": [
       "<matplotlib.figure.Figure at 0x11bd74f60>"
      ]
     },
     "metadata": {},
     "output_type": "display_data"
    }
   ],
   "source": [
    "#Graphing the differences\n",
    "plt.clf()\n",
    "plt.bar(1, human_gorilla, color = \"grey\")\n",
    "plt.bar(2, human_orangutan, color = \"darkgoldenrod\")\n",
    "plt.bar(3, human_macaque, color = \"darkcyan\")\n",
    "plt.ylabel(\"Percentage of Different DNA\")\n",
    "plt.xticks([]) #Clearing the x-ticks\n",
    "plt.title(\"DNA Different than Humans\")\n",
    "plt.legend(labels = [\"Human_Gorilla\", \"Human-Orangutan\", \"Human-Macaque\"], loc = \"upper left\")\n",
    "plt.savefig(\"Coding Challenge\")\n",
    "plt.show()\n"
   ]
  },
  {
   "cell_type": "code",
   "execution_count": null,
   "metadata": {
    "collapsed": true
   },
   "outputs": [],
   "source": []
  }
 ],
 "metadata": {
  "kernelspec": {
   "display_name": "Python 3",
   "language": "python",
   "name": "python3"
  },
  "language_info": {
   "codemirror_mode": {
    "name": "ipython",
    "version": 3
   },
   "file_extension": ".py",
   "mimetype": "text/x-python",
   "name": "python",
   "nbconvert_exporter": "python",
   "pygments_lexer": "ipython3",
   "version": "3.5.2"
  }
 },
 "nbformat": 4,
 "nbformat_minor": 2
}
