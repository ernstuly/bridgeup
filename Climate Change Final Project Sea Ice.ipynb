{
 "cells": [
  {
   "cell_type": "code",
   "execution_count": 25,
   "metadata": {
    "collapsed": true
   },
   "outputs": [],
   "source": [
    "#Importing the Libraries \n",
    "import matplotlib.pyplot as plt\n",
    "import numpy as np\n",
    "import csv"
   ]
  },
  {
   "cell_type": "code",
   "execution_count": 26,
   "metadata": {
    "collapsed": false
   },
   "outputs": [],
   "source": [
    "#Opening the data file\n",
    "csvFile = open(\"percent_sea_ice_Dec1_2017.csv\",'r')\n",
    "#This is a CSV reader object to read the data\n",
    "#And it also converts into a list of lists using the list() function\n",
    "csvReader = csv.reader(csvFile, delimiter=',')\n",
    "data_lists = list(csvReader)"
   ]
  },
  {
   "cell_type": "code",
   "execution_count": 27,
   "metadata": {
    "collapsed": false
   },
   "outputs": [],
   "source": [
    "#Number of items in one row = width\n",
    "width = len(data_lists[0])\n",
    "#Number of rows = height\n",
    "height = len(data_lists)"
   ]
  },
  {
   "cell_type": "code",
   "execution_count": 28,
   "metadata": {
    "collapsed": false
   },
   "outputs": [],
   "source": [
    "# We have to specify the height and width of the matrix along with the number of items \n",
    "# we can put in each spot on the grid. We want 3 because each color value has 3 numbers.\n",
    "# Finally, we specify the type of data we will put into the matrix.\n",
    "#Empty Matrix (grid made up of lists)\n",
    "grid = np.empty([height, width, 3], dtype=np.uint8)\n"
   ]
  },
  {
   "cell_type": "code",
   "execution_count": 95,
   "metadata": {
    "collapsed": false
   },
   "outputs": [],
   "source": [
    "#Conditionals and For Loops to Define the Colors \n",
    "all_values = []\n",
    "\n",
    "for r, row in enumerate(data_lists):\n",
    "    for c, value in enumerate(row):\n",
    "        if float(value) < 99999: \n",
    "            all_values.append(float(value))\n",
    "        if float(value) <= 0: \n",
    "            grid[r,c] = [0, 0, 0] #[R,G,B]\n",
    "        if float(value) <= 20:\n",
    "            grid[r,c] = [15, 89, 84]\n",
    "        elif float(value) <= 25:\n",
    "            grid[r,c] = [15, 89, 84]\n",
    "        elif float(value) <= 40:\n",
    "            grid[r,c] = [30, 145, 137]\n",
    "        elif float(value) <= 60: \n",
    "            grid[r,c] = [32, 155, 147]\n",
    "        elif float(value) <= 62:\n",
    "            grid[r,c] = [34, 163, 154]\n",
    "        elif float(value) <= 64:\n",
    "            grid[r,c] = [36, 160, 152]\n",
    "        elif float(value) <= 66:\n",
    "            grid[r,c] = [38, 160, 152]\n",
    "        elif float(value) <= 68:\n",
    "            grid[r,c] = [40, 160, 152]\n",
    "        elif float(value) <= 70:\n",
    "            grid[r,c] = [42, 160, 152]\n",
    "        elif float(value) <= 72:\n",
    "            grid[r,c] = [44, 160, 152]\n",
    "        elif float(value) <= 74:\n",
    "            grid[r,c] = [52, 160, 152]\n",
    "        elif float(value) <= 76:\n",
    "            grid[r,c] = [56, 160, 152]\n",
    "        elif float(value) <= 78:\n",
    "            grid[r,c] = [60, 160, 152]\n",
    "        elif float(value) <= 80:\n",
    "            grid[r,c] = [64, 160, 152]\n",
    "        elif float(value) <= 82:\n",
    "            grid[r,c] = [68, 160, 152]\n",
    "        elif float(value) <= 84:\n",
    "            grid[r,c] = [70, 160, 152]\n",
    "        elif float(value) <= 86:\n",
    "            grid[r,c] = [74, 160, 152]\n",
    "        elif float(value) <= 90:\n",
    "            grid[r,c] = [186, 186, 186]\n",
    "        elif float(value) <= 92:\n",
    "            grid[r,c] = [217, 224, 224]\n",
    "        elif float(value) <= 94:\n",
    "            grid[r,c] = [234, 242, 241]\n",
    "        elif float(value) <= 96:\n",
    "            grid[r,c] = [244, 247, 247]\n",
    "        elif float(value) <= 98:\n",
    "            grid[r,c] = [249, 255, 254]\n",
    "        elif float(value) <= 100:\n",
    "            grid[r,c] = [255, 255, 255]\n",
    "        else: \n",
    "            grid[r, c] = [255, 255, 255]"
   ]
  },
  {
   "cell_type": "code",
   "execution_count": 96,
   "metadata": {
    "collapsed": false
   },
   "outputs": [
    {
     "name": "stdout",
     "output_type": "stream",
     "text": [
      "0.0\n",
      "100.0\n"
     ]
    }
   ],
   "source": [
    "print(min(all_values))\n",
    "print(max(all_values))"
   ]
  },
  {
   "cell_type": "code",
   "execution_count": 97,
   "metadata": {
    "collapsed": false
   },
   "outputs": [
    {
     "data": {
      "image/png": "[encoded data removed]",
      "text/plain": [
       "<matplotlib.figure.Figure at 0x119c12c50>"
      ]
     },
     "metadata": {},
     "output_type": "display_data"
    }
   ],
   "source": [
    "#Printing the graph\n",
    "plt.title(\"Percentage of Sea Ice in 2017\")\n",
    "plt.imshow(grid)\n",
    "plt.axis('off')\n",
    "\n",
    "plt.savefig(\"Sea Ice 2017.png\",dpi=1000)\n",
    "plt.show()"
   ]
  }
 ],
 "metadata": {
  "kernelspec": {
   "display_name": "Python 3",
   "language": "python",
   "name": "python3"
  },
  "language_info": {
   "codemirror_mode": {
    "name": "ipython",
    "version": 3
   },
   "file_extension": ".py",
   "mimetype": "text/x-python",
   "name": "python",
   "nbconvert_exporter": "python",
   "pygments_lexer": "ipython3",
   "version": "3.5.2"
  }
 },
 "nbformat": 4,
 "nbformat_minor": 2
}
