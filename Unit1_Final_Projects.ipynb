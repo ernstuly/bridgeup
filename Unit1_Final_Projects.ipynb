{
 "cells": [
  {
   "cell_type": "markdown",
   "metadata": {
    "deletable": true,
    "editable": true
   },
   "source": [
    "# Analyzing your experimental data\n",
    "\n",
    "Use this Jupyter Notebook to analyze the data from your experiment"
   ]
  },
  {
   "cell_type": "markdown",
   "metadata": {
    "deletable": true,
    "editable": true
   },
   "source": [
    "Put your data into one or more list as relevant for your experiment (one sample, one list; two samples, two lists):"
   ]
  },
  {
   "cell_type": "code",
   "execution_count": 1,
   "metadata": {
    "collapsed": false,
    "deletable": true,
    "editable": true
   },
   "outputs": [
    {
     "name": "stdout",
     "output_type": "stream",
     "text": [
      "[5.33, 4.29, 4.33, 3.58, 4.64, 5.23, 4.32, 4.17, 3.94, 4.3, 5.0, 5.64, 4.02, 7.86, 3.35, 4.28, 2.69, 7.76, 3.57, 4.63, 7.38, 7.69, 7.2, 5.93, 7.14, 9.55, 9.95, 6.87, 8.51, 6.35, 7.3, 7.15, 7.53, 8.05, 8.03, 7.62, 2.69, 11.04, 11.62, 9.26]\n"
     ]
    }
   ],
   "source": [
    "corresponding = [5.33, 4.29, 4.33, 3.58, 4.64, 5.23, 4.32, 4.17, 3.94, 4.30, 5.00, 5.64, 4.02, 7.86, 3.35, 4.28, 2.69, 7.76, 3.57, 4.63]\n",
    "opposite = [7.38, 7.69, 7.20, 5.93, 7.14, 9.55, 9.95, 6.87, 8.51, 6.35, 7.30, 7.15, 7.53, 8.05, 8.03, 7.62, 2.69, 11.04, 11.62, 9.26]\n",
    "print(corresponding + opposite)"
   ]
  },
  {
   "cell_type": "markdown",
   "metadata": {
    "deletable": true,
    "editable": true
   },
   "source": [
    "Consider how you can loops and/or conditionals to analyze your data. Use the cell below to do so if you think this would be helpful:"
   ]
  },
  {
   "cell_type": "code",
   "execution_count": 2,
   "metadata": {
    "collapsed": false,
    "deletable": true,
    "editable": true
   },
   "outputs": [
    {
     "name": "stdout",
     "output_type": "stream",
     "text": [
      "[5.33, 4.29, 4.33, 3.58, 4.64, 5.23, 4.32, 4.17, 3.94, 4.3, 5.0, 5.64, 4.02, 7.86, 3.35, 4.28, 2.69, 7.76, 3.57, 4.63]\n",
      "[5.33, 4.29, 4.33, 3.58, 4.64, 5.23, 4.32, 4.17, 3.94, 4.3, 5.0, 5.64, 4.02, 7.86, 3.35, 4.28, 2.69, 7.76, 3.57, 4.63]\n",
      "[5.33, 4.29, 4.33, 3.58, 4.64, 5.23, 4.32, 4.17, 3.94, 4.3, 5.0, 5.64, 4.02, 7.86, 3.35, 4.28, 2.69, 7.76, 3.57, 4.63]\n",
      "[5.33, 4.29, 4.33, 3.58, 4.64, 5.23, 4.32, 4.17, 3.94, 4.3, 5.0, 5.64, 4.02, 7.86, 3.35, 4.28, 2.69, 7.76, 3.57, 4.63]\n",
      "[5.33, 4.29, 4.33, 3.58, 4.64, 5.23, 4.32, 4.17, 3.94, 4.3, 5.0, 5.64, 4.02, 7.86, 3.35, 4.28, 2.69, 7.76, 3.57, 4.63]\n",
      "[5.33, 4.29, 4.33, 3.58, 4.64, 5.23, 4.32, 4.17, 3.94, 4.3, 5.0, 5.64, 4.02, 7.86, 3.35, 4.28, 2.69, 7.76, 3.57, 4.63]\n",
      "[5.33, 4.29, 4.33, 3.58, 4.64, 5.23, 4.32, 4.17, 3.94, 4.3, 5.0, 5.64, 4.02, 7.86, 3.35, 4.28, 2.69, 7.76, 3.57, 4.63]\n",
      "[5.33, 4.29, 4.33, 3.58, 4.64, 5.23, 4.32, 4.17, 3.94, 4.3, 5.0, 5.64, 4.02, 7.86, 3.35, 4.28, 2.69, 7.76, 3.57, 4.63]\n",
      "[5.33, 4.29, 4.33, 3.58, 4.64, 5.23, 4.32, 4.17, 3.94, 4.3, 5.0, 5.64, 4.02, 7.86, 3.35, 4.28, 2.69, 7.76, 3.57, 4.63]\n",
      "[5.33, 4.29, 4.33, 3.58, 4.64, 5.23, 4.32, 4.17, 3.94, 4.3, 5.0, 5.64, 4.02, 7.86, 3.35, 4.28, 2.69, 7.76, 3.57, 4.63]\n",
      "[5.33, 4.29, 4.33, 3.58, 4.64, 5.23, 4.32, 4.17, 3.94, 4.3, 5.0, 5.64, 4.02, 7.86, 3.35, 4.28, 2.69, 7.76, 3.57, 4.63]\n",
      "[5.33, 4.29, 4.33, 3.58, 4.64, 5.23, 4.32, 4.17, 3.94, 4.3, 5.0, 5.64, 4.02, 7.86, 3.35, 4.28, 2.69, 7.76, 3.57, 4.63]\n",
      "[5.33, 4.29, 4.33, 3.58, 4.64, 5.23, 4.32, 4.17, 3.94, 4.3, 5.0, 5.64, 4.02, 7.86, 3.35, 4.28, 2.69, 7.76, 3.57, 4.63]\n",
      "[5.33, 4.29, 4.33, 3.58, 4.64, 5.23, 4.32, 4.17, 3.94, 4.3, 5.0, 5.64, 4.02, 7.86, 3.35, 4.28, 2.69, 7.76, 3.57, 4.63]\n",
      "[5.33, 4.29, 4.33, 3.58, 4.64, 5.23, 4.32, 4.17, 3.94, 4.3, 5.0, 5.64, 4.02, 7.86, 3.35, 4.28, 2.69, 7.76, 3.57, 4.63]\n",
      "[5.33, 4.29, 4.33, 3.58, 4.64, 5.23, 4.32, 4.17, 3.94, 4.3, 5.0, 5.64, 4.02, 7.86, 3.35, 4.28, 2.69, 7.76, 3.57, 4.63]\n",
      "[5.33, 4.29, 4.33, 3.58, 4.64, 5.23, 4.32, 4.17, 3.94, 4.3, 5.0, 5.64, 4.02, 7.86, 3.35, 4.28, 2.69, 7.76, 3.57, 4.63]\n",
      "[5.33, 4.29, 4.33, 3.58, 4.64, 5.23, 4.32, 4.17, 3.94, 4.3, 5.0, 5.64, 4.02, 7.86, 3.35, 4.28, 2.69, 7.76, 3.57, 4.63]\n",
      "[5.33, 4.29, 4.33, 3.58, 4.64, 5.23, 4.32, 4.17, 3.94, 4.3, 5.0, 5.64, 4.02, 7.86, 3.35, 4.28, 2.69, 7.76, 3.57, 4.63]\n",
      "[5.33, 4.29, 4.33, 3.58, 4.64, 5.23, 4.32, 4.17, 3.94, 4.3, 5.0, 5.64, 4.02, 7.86, 3.35, 4.28, 2.69, 7.76, 3.57, 4.63]\n",
      "[7.38, 7.69, 7.2, 5.93, 7.14, 9.55, 9.95, 6.87, 8.51, 6.35, 7.3, 7.15, 7.53, 8.05, 8.03, 7.62, 2.69, 11.04, 11.62, 9.26]\n",
      "[7.38, 7.69, 7.2, 5.93, 7.14, 9.55, 9.95, 6.87, 8.51, 6.35, 7.3, 7.15, 7.53, 8.05, 8.03, 7.62, 2.69, 11.04, 11.62, 9.26]\n",
      "[7.38, 7.69, 7.2, 5.93, 7.14, 9.55, 9.95, 6.87, 8.51, 6.35, 7.3, 7.15, 7.53, 8.05, 8.03, 7.62, 2.69, 11.04, 11.62, 9.26]\n",
      "[7.38, 7.69, 7.2, 5.93, 7.14, 9.55, 9.95, 6.87, 8.51, 6.35, 7.3, 7.15, 7.53, 8.05, 8.03, 7.62, 2.69, 11.04, 11.62, 9.26]\n",
      "[7.38, 7.69, 7.2, 5.93, 7.14, 9.55, 9.95, 6.87, 8.51, 6.35, 7.3, 7.15, 7.53, 8.05, 8.03, 7.62, 2.69, 11.04, 11.62, 9.26]\n",
      "[7.38, 7.69, 7.2, 5.93, 7.14, 9.55, 9.95, 6.87, 8.51, 6.35, 7.3, 7.15, 7.53, 8.05, 8.03, 7.62, 2.69, 11.04, 11.62, 9.26]\n",
      "[7.38, 7.69, 7.2, 5.93, 7.14, 9.55, 9.95, 6.87, 8.51, 6.35, 7.3, 7.15, 7.53, 8.05, 8.03, 7.62, 2.69, 11.04, 11.62, 9.26]\n",
      "[7.38, 7.69, 7.2, 5.93, 7.14, 9.55, 9.95, 6.87, 8.51, 6.35, 7.3, 7.15, 7.53, 8.05, 8.03, 7.62, 2.69, 11.04, 11.62, 9.26]\n",
      "[7.38, 7.69, 7.2, 5.93, 7.14, 9.55, 9.95, 6.87, 8.51, 6.35, 7.3, 7.15, 7.53, 8.05, 8.03, 7.62, 2.69, 11.04, 11.62, 9.26]\n",
      "[7.38, 7.69, 7.2, 5.93, 7.14, 9.55, 9.95, 6.87, 8.51, 6.35, 7.3, 7.15, 7.53, 8.05, 8.03, 7.62, 2.69, 11.04, 11.62, 9.26]\n",
      "[7.38, 7.69, 7.2, 5.93, 7.14, 9.55, 9.95, 6.87, 8.51, 6.35, 7.3, 7.15, 7.53, 8.05, 8.03, 7.62, 2.69, 11.04, 11.62, 9.26]\n",
      "[7.38, 7.69, 7.2, 5.93, 7.14, 9.55, 9.95, 6.87, 8.51, 6.35, 7.3, 7.15, 7.53, 8.05, 8.03, 7.62, 2.69, 11.04, 11.62, 9.26]\n",
      "[7.38, 7.69, 7.2, 5.93, 7.14, 9.55, 9.95, 6.87, 8.51, 6.35, 7.3, 7.15, 7.53, 8.05, 8.03, 7.62, 2.69, 11.04, 11.62, 9.26]\n",
      "[7.38, 7.69, 7.2, 5.93, 7.14, 9.55, 9.95, 6.87, 8.51, 6.35, 7.3, 7.15, 7.53, 8.05, 8.03, 7.62, 2.69, 11.04, 11.62, 9.26]\n",
      "[7.38, 7.69, 7.2, 5.93, 7.14, 9.55, 9.95, 6.87, 8.51, 6.35, 7.3, 7.15, 7.53, 8.05, 8.03, 7.62, 2.69, 11.04, 11.62, 9.26]\n",
      "[7.38, 7.69, 7.2, 5.93, 7.14, 9.55, 9.95, 6.87, 8.51, 6.35, 7.3, 7.15, 7.53, 8.05, 8.03, 7.62, 2.69, 11.04, 11.62, 9.26]\n",
      "[7.38, 7.69, 7.2, 5.93, 7.14, 9.55, 9.95, 6.87, 8.51, 6.35, 7.3, 7.15, 7.53, 8.05, 8.03, 7.62, 2.69, 11.04, 11.62, 9.26]\n",
      "[7.38, 7.69, 7.2, 5.93, 7.14, 9.55, 9.95, 6.87, 8.51, 6.35, 7.3, 7.15, 7.53, 8.05, 8.03, 7.62, 2.69, 11.04, 11.62, 9.26]\n",
      "[7.38, 7.69, 7.2, 5.93, 7.14, 9.55, 9.95, 6.87, 8.51, 6.35, 7.3, 7.15, 7.53, 8.05, 8.03, 7.62, 2.69, 11.04, 11.62, 9.26]\n",
      "[7.38, 7.69, 7.2, 5.93, 7.14, 9.55, 9.95, 6.87, 8.51, 6.35, 7.3, 7.15, 7.53, 8.05, 8.03, 7.62, 2.69, 11.04, 11.62, 9.26]\n"
     ]
    }
   ],
   "source": [
    "for cTimes in corresponding:\n",
    "    print(corresponding)\n",
    "for oTimes in opposite:\n",
    "    print(opposite)"
   ]
  },
  {
   "cell_type": "markdown",
   "metadata": {
    "deletable": true,
    "editable": true
   },
   "source": [
    "Now find the mean of your dataset(s). Hint: You will need to import numpy."
   ]
  },
  {
   "cell_type": "code",
   "execution_count": 3,
   "metadata": {
    "collapsed": true,
    "deletable": true,
    "editable": true
   },
   "outputs": [],
   "source": [
    "import numpy as np"
   ]
  },
  {
   "cell_type": "markdown",
   "metadata": {
    "deletable": true,
    "editable": true
   },
   "source": [
    "Next, find the standard deviation and variance using the np.std() and np.var() functions."
   ]
  },
  {
   "cell_type": "code",
   "execution_count": 4,
   "metadata": {
    "collapsed": false,
    "deletable": true,
    "editable": true
   },
   "outputs": [
    {
     "name": "stdout",
     "output_type": "stream",
     "text": [
      "1.25404256307\n",
      "1.57262275\n",
      "1.86852107293\n",
      "3.491371\n"
     ]
    }
   ],
   "source": [
    "#Means\n",
    "cMean  = (np.mean(corresponding))\n",
    "oMean = (np.mean(opposite))\n",
    "#Standard Variation\n",
    "cStd = (np.std(corresponding))\n",
    "oStd = (np.std(opposite))\n",
    "#Variance\n",
    "cVar = (np.var(corresponding))\n",
    "oVar = (np.var(opposite))\n",
    "\n",
    "print(cStd)\n",
    "print(cVar)\n",
    "print(oStd)\n",
    "print(oVar)"
   ]
  },
  {
   "cell_type": "markdown",
   "metadata": {
    "deletable": true,
    "editable": true
   },
   "source": [
    "Now, find your t-value. Use the relevant code below:"
   ]
  },
  {
   "cell_type": "code",
   "execution_count": 5,
   "metadata": {
    "collapsed": false,
    "deletable": true,
    "editable": true
   },
   "outputs": [
    {
     "name": "stdout",
     "output_type": "stream",
     "text": [
      "Ttest_indResult(statistic=-6.1916290434447792, pvalue=3.1085564568672328e-07)\n"
     ]
    }
   ],
   "source": [
    "#two sample t-test\n",
    "from scipy import stats\n",
    "print(stats.ttest_ind(corresponding, opposite))"
   ]
  },
  {
   "cell_type": "code",
   "execution_count": 6,
   "metadata": {
    "collapsed": false,
    "deletable": true,
    "editable": true
   },
   "outputs": [
    {
     "name": "stdout",
     "output_type": "stream",
     "text": [
      "2.69\n",
      "2.69\n",
      "11.62\n",
      "11.62\n"
     ]
    }
   ],
   "source": [
    "#Maximum & Minimums of the List \n",
    "print(min(corresponding))\n",
    "print(min(corresponding))\n",
    "print(max(opposite))\n",
    "print(max(opposite))"
   ]
  },
  {
   "cell_type": "markdown",
   "metadata": {
    "deletable": true,
    "editable": true
   },
   "source": [
    "Next, it's time to make a graph that visualizes your results. You can create a histogram for your datasets using matplotlib:"
   ]
  },
  {
   "cell_type": "code",
   "execution_count": 7,
   "metadata": {
    "collapsed": false,
    "deletable": true,
    "editable": true
   },
   "outputs": [],
   "source": [
    "import matplotlib.pyplot as plt\n",
    "\n",
    "# Create a histogram\n",
    "plt.hist(corresponding, 12, range = [2,12])\n",
    "\n",
    "# Add a title and axis labels\n",
    "plt.suptitle(\"Text with Corresponding Color\")\n",
    "plt.xlabel(\"\")\n",
    "plt.ylabel(\"Time\")\n",
    "\n",
    "# Show the graph\n",
    "plt.savefig(\"corresponding Color Graph.png\")"
   ]
  },
  {
   "cell_type": "code",
   "execution_count": 8,
   "metadata": {
    "collapsed": true,
    "deletable": true,
    "editable": true
   },
   "outputs": [],
   "source": [
    "#Non-Corresponding Colors\n",
    "plt.hist(corresponding, 12, range = [2,12])\n",
    "\n",
    "#Title & Axis Labels \n",
    "plt.suptitle(\"Text with Different Colors\")\n",
    "plt.xlabel(\"\")\n",
    "plt.ylabel(\"Time\")\n",
    "\n",
    "#Show the graph\n",
    "plt.savefig(\"Non-corresponding Color Graph.png\")"
   ]
  },
  {
   "cell_type": "code",
   "execution_count": 10,
   "metadata": {
    "collapsed": false,
    "deletable": true,
    "editable": true
   },
   "outputs": [
    {
     "data": {
      "image/png": "[encoded data removed]",
      "text/plain": [
       "<matplotlib.figure.Figure at 0x111ce76a0>"
      ]
     },
     "metadata": {},
     "output_type": "display_data"
    }
   ],
   "source": [
    "import matplotlib.pyplot as plt\n",
    "#Bar Graph\n",
    "plt.clf()\n",
    "#Bars (Error Bars)\n",
    "plt.bar(1, cMean, yerr = cStd, capsize = 5)\n",
    "plt.bar(2, oMean, yerr = oStd, capsize = 5)\n",
    "plt.xticks([1,2],(\"Corresponding\", \"Opposite\"))\n",
    "#Showing the graph \n",
    "plt.show()"
   ]
  },
  {
   "cell_type": "markdown",
   "metadata": {
    "deletable": true,
    "editable": true
   },
   "source": [
    "If you want to make another kind of graph, ask for help!"
   ]
  }
 ],
 "metadata": {
  "kernelspec": {
   "display_name": "Python 3",
   "language": "python",
   "name": "python3"
  },
  "language_info": {
   "codemirror_mode": {
    "name": "ipython",
    "version": 3
   },
   "file_extension": ".py",
   "mimetype": "text/x-python",
   "name": "python",
   "nbconvert_exporter": "python",
   "pygments_lexer": "ipython3",
   "version": "3.5.2"
  }
 },
 "nbformat": 4,
 "nbformat_minor": 2
}
